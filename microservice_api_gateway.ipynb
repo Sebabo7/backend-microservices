{
  "nbformat": 4,
  "nbformat_minor": 0,
  "metadata": {
    "colab": {
      "provenance": [],
      "authorship_tag": "ABX9TyOh904i38v0TV7Fg5BECHJM",
      "include_colab_link": true
    },
    "kernelspec": {
      "name": "python3",
      "display_name": "Python 3"
    },
    "language_info": {
      "name": "python"
    }
  },
  "cells": [
    {
      "cell_type": "markdown",
      "metadata": {
        "id": "view-in-github",
        "colab_type": "text"
      },
      "source": [
        "<a href=\"https://colab.research.google.com/github/Sebabo7/backend-microservices/blob/main/microservice_api_gateway.ipynb\" target=\"_parent\"><img src=\"https://colab.research.google.com/assets/colab-badge.svg\" alt=\"Open In Colab\"/></a>"
      ]
    },
    {
      "cell_type": "code",
      "execution_count": null,
      "metadata": {
        "collapsed": true,
        "id": "XFCg4HDcwywn"
      },
      "outputs": [],
      "source": [
        "!pip install flask requests python-dotenv Flask-Limiter pyjwt"
      ]
    },
    {
      "cell_type": "code",
      "source": [
        "%%writefile .env\n",
        "SECRET_KEY=super_secret_key"
      ],
      "metadata": {
        "collapsed": true,
        "id": "NfujkalVzGSt"
      },
      "execution_count": null,
      "outputs": []
    },
    {
      "cell_type": "code",
      "source": [
        "%%writefile app.py\n",
        "from flask import Flask, jsonify, request\n",
        "import requests\n",
        "import jwt\n",
        "import os\n",
        "from flask_limiter import Limiter\n",
        "from flask_limiter.util import get_remote_address\n",
        "from dotenv import load_dotenv\n",
        "\n",
        "load_dotenv()\n",
        "\n",
        "app = Flask(__name__)\n",
        "\n",
        "SECRET_KEY = os.getenv('SECRET_KEY', 'default_secret_key')\n",
        "\n",
        "limiter = Limiter(get_remote_address, app=app, default_limits=[\"100 per minute\"])\n",
        "\n",
        "# route for login and JWT generation\n",
        "@app.route('/login', methods=['POST'])\n",
        "def login():\n",
        "    user_data = request.json\n",
        "    if user_data['username'] == 'test' and user_data['password'] == 'test':\n",
        "        token = jwt.encode({'user': user_data['username']}, SECRET_KEY, algorithm='HS256')\n",
        "        return jsonify({'token': token})\n",
        "    return jsonify({'error': 'Unauthorized'}), 401\n",
        "\n",
        "#  route for accessing services user, review or business\n",
        "@app.route('/api/<service>/<id>', methods=['GET'])\n",
        "@limiter.limit(\"50 per minute\")\n",
        "def gateway(service, id):\n",
        "    token = request.headers.get('Authorization')\n",
        "    try:\n",
        "        jwt.decode(token, SECRET_KEY, algorithms=['HS256'])\n",
        "    except jwt.ExpiredSignatureError:\n",
        "        return jsonify({'error': 'Token has expired'}), 403\n",
        "    except jwt.InvalidTokenError:\n",
        "        return jsonify({'error': 'Invalid token'}), 403\n",
        "\n",
        "    services = {\n",
        "        'user': 'http://localhost:5001/user/',\n",
        "        'review': 'http://localhost:5002/review/',\n",
        "        'business': 'http://localhost:5003/business/'\n",
        "    }\n",
        "\n",
        "    if service in services:\n",
        "        try:\n",
        "            response = requests.get(services[service] + id, timeout=5)\n",
        "            response.raise_for_status()\n",
        "            return jsonify(response.json())\n",
        "        except requests.exceptions.RequestException as e:\n",
        "            return jsonify({'error': str(e)}), 503\n",
        "    return jsonify({'error': 'Service not found'}), 404\n",
        "\n",
        "if __name__ == \"__main__\":\n",
        "    app.run(port=5000)\n"
      ],
      "metadata": {
        "collapsed": true,
        "id": "_6YVruF9x0Vc"
      },
      "execution_count": null,
      "outputs": []
    },
    {
      "cell_type": "code",
      "source": [
        "%%writefile README.md\n",
        "\n",
        "# Microservice API Gateway\n",
        "\n",
        "## Overview ##\n",
        "This project demonstrates a microservice architecture using Flask, with rate limiting, JWT-based authentication, and an API gateway that communicates with multiple services.\n",
        "\n",
        "## Features ##\n",
        "- JWT-based authentication for secured access.\n",
        "- Rate limiting to prevent abuse of API resources.\n",
        "- API Gateway that routes to `user`, `review`, and `business` microservices.\n",
        "\n",
        "## Setup ##\n",
        "\n",
        "### Requirements ##\n",
        "- Python 3.x\n",
        "- Flask\n",
        "- Requests\n",
        "- Flask-Limiter\n",
        "- PyJWT\n",
        "- Python-dotenv\n",
        "\n",
        "### Installation ##\n",
        "\n",
        "1. Clone the repository:\n",
        "   ```bash\n",
        "   git clone https://github.com/Sebabo7/backend-microservices.git\n",
        "   cd microservice-api-gateway"
      ],
      "metadata": {
        "collapsed": true,
        "id": "qOji4Ocnz9Az",
        "colab": {
          "base_uri": "https://localhost:8080/"
        },
        "outputId": "803fdbd9-6a7e-4d86-c5b3-8d0cddf129fa"
      },
      "execution_count": 1,
      "outputs": [
        {
          "output_type": "stream",
          "name": "stdout",
          "text": [
            "Writing README.md\n"
          ]
        }
      ]
    },
    {
      "cell_type": "code",
      "source": [
        "%%writefile .gitignore\n",
        "__pycache__/\n",
        "*.py[cod]\n",
        "*.egg-info/\n",
        "venv/\n",
        ".env"
      ],
      "metadata": {
        "collapsed": true,
        "id": "-lVCjv3G0l1i",
        "colab": {
          "base_uri": "https://localhost:8080/"
        },
        "outputId": "9d6ee32c-ba73-4108-fb4d-a2661e473939"
      },
      "execution_count": 2,
      "outputs": [
        {
          "output_type": "stream",
          "name": "stdout",
          "text": [
            "Writing .gitignore\n"
          ]
        }
      ]
    },
    {
      "cell_type": "code",
      "source": [
        "%%writefile requirements.txt\n",
        "Flask==2.1.1\n",
        "requests==2.26.0\n",
        "Flask-Limiter==1.3.1\n",
        "PyJWT==2.3.0\n",
        "python-dotenv==0.19.2"
      ],
      "metadata": {
        "collapsed": true,
        "id": "-CNW-M910nRD",
        "colab": {
          "base_uri": "https://localhost:8080/"
        },
        "outputId": "1ba94269-038d-4c34-892e-c8a22217627f"
      },
      "execution_count": 3,
      "outputs": [
        {
          "output_type": "stream",
          "name": "stdout",
          "text": [
            "Writing requirements.txt\n"
          ]
        }
      ]
    }
  ]
}